{
 "cells": [
  {
   "cell_type": "code",
   "execution_count": 1,
   "metadata": {},
   "outputs": [],
   "source": [
    "import plotly.graph_objects as go\n",
    "import urllib, json\n",
    "import pandas as pd\n",
    "import io"
   ]
  },
  {
   "cell_type": "code",
   "execution_count": 2,
   "metadata": {},
   "outputs": [],
   "source": [
    "with open('sankey_configuration.json') as json_file:\n",
    "    configuration = json.load(json_file)"
   ]
  },
  {
   "cell_type": "code",
   "execution_count": 3,
   "metadata": {},
   "outputs": [
    {
     "data": {
      "text/plain": [
       "'done'"
      ]
     },
     "execution_count": 3,
     "metadata": {},
     "output_type": "execute_result"
    }
   ],
   "source": [
    "index_map = {}\n",
    "node = {\n",
    "    \"pad\": 15,\n",
    "    \"line\": {\n",
    "        \"color\": \"black\",\n",
    "        \"width\": 0.5\n",
    "    },\n",
    "    \"label\": [],\n",
    "    \"color\": []\n",
    "}\n",
    "\n",
    "link = {\n",
    "    \"source\": [],\n",
    "    \"target\": [],\n",
    "    \"value\": [],\n",
    "    \"color\": [],\n",
    "    \"label\": []\n",
    "}\n",
    "\n",
    "for num, n in enumerate(configuration['nodes']):\n",
    "    node['label'].append(n['label'])\n",
    "    node['color'].append(n['color'])\n",
    "    index_map[n['source']] = num\n",
    "\n",
    "for ln in configuration['link']:\n",
    "    if ln['source'] is not '' and ln['target'] is not '' and ln['value'] is not '' and ln['color'] is not '':\n",
    "        link['source'].append(index_map[ln['source']])\n",
    "        link['target'].append(index_map[ln['target']])\n",
    "        link['value'].append(ln['value'])\n",
    "        link['color'].append(ln['color'])\n",
    "        link['label'].append(ln['label'] if 'label' in ln else '')\n",
    "    \n",
    "data = {\n",
    "    \"data\": [{\n",
    "        \"type\": \"sankey\",\n",
    "        \"domain\": {\n",
    "            \"x\": [0, 1],\n",
    "            \"y\": [0, 1]\n",
    "        },\n",
    "        \"orientation\": \"h\",\n",
    "        \"valueformat\": \".0f\",\n",
    "        \"valuesuffix\": \"TWh\",\n",
    "        \"node\": node,\n",
    "        \"link\": link\n",
    "    }]\n",
    "}\n",
    "'done'"
   ]
  },
  {
   "cell_type": "code",
   "execution_count": 4,
   "metadata": {},
   "outputs": [],
   "source": [
    "fig = go.Figure(data=[go.Sankey(\n",
    "    valueformat = \"\",\n",
    "    valuesuffix = \"\",\n",
    "    # Define nodes\n",
    "    node = dict(\n",
    "      pad = 15,\n",
    "      thickness = 15,\n",
    "      line = dict(color = \"black\", width = 0.5),\n",
    "      label =  data['data'][0]['node']['label'],\n",
    "      color =  data['data'][0]['node']['color']\n",
    "    ),\n",
    "    # Add links\n",
    "    link = dict(\n",
    "      source =  data['data'][0]['link']['source'],\n",
    "      target =  data['data'][0]['link']['target'],\n",
    "      value =  data['data'][0]['link']['value'],\n",
    "      label =  data['data'][0]['link']['label'],\n",
    "      color =  data['data'][0]['link']['color']\n",
    "))])"
   ]
  },
  {
   "cell_type": "code",
   "execution_count": 13,
   "metadata": {},
   "outputs": [
    {
     "data": {
      "image/png": "[encoded data removed]",
      "text/plain": [
       "<IPython.core.display.Image object>"
      ]
     },
     "execution_count": 13,
     "metadata": {},
     "output_type": "execute_result"
    }
   ],
   "source": [
    "from IPython.display import Image\n",
    "fig.update_layout(title_text=\"Factory Chain: Electro Magnetic Charge Factory\", font_size=10)\n",
    "Image(fig.to_image(format='webp'))"
   ]
  },
  {
   "cell_type": "code",
   "execution_count": 15,
   "metadata": {},
   "outputs": [
    {
     "data": {
      "text/plain": [
       "'4.6.0'"
      ]
     },
     "execution_count": 15,
     "metadata": {},
     "output_type": "execute_result"
    }
   ],
   "source": [
    "import plotly \n",
    "plotly.__version__"
   ]
  }
 ],
 "metadata": {
  "kernelspec": {
   "display_name": "Python 3",
   "language": "python",
   "name": "python3"
  },
  "language_info": {
   "codemirror_mode": {
    "name": "ipython",
    "version": 3
   },
   "file_extension": ".py",
   "mimetype": "text/x-python",
   "name": "python",
   "nbconvert_exporter": "python",
   "pygments_lexer": "ipython3",
   "version": "3.7.4"
  }
 },
 "nbformat": 4,
 "nbformat_minor": 2
}
